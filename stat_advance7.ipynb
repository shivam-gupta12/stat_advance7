{
 "cells": [
  {
   "cell_type": "markdown",
   "id": "939d5198-090c-4df5-9d4b-41b11a1574f9",
   "metadata": {},
   "source": [
    "# question 1"
   ]
  },
  {
   "cell_type": "code",
   "execution_count": 4,
   "id": "a445eec4-af74-4dfd-9e2b-26f4cef2017b",
   "metadata": {},
   "outputs": [
    {
     "name": "stdout",
     "output_type": "stream",
     "text": [
      "F-value: 0.25\n",
      "p-value: 0.896\n"
     ]
    }
   ],
   "source": [
    "import scipy.stats as stats\n",
    "import numpy as np\n",
    "\n",
    "def variance_ratio_test(data1, data2):\n",
    "    # Calculate the variances of the two samples\n",
    "    var1 = np.var(data1, ddof=1)\n",
    "    var2 = np.var(data2, ddof=1)\n",
    "    \n",
    "    # Calculate the F-value and p-value for the variance ratio test\n",
    "    f_value = var1/var2\n",
    "    p_value = stats.f.sf(f_value, len(data1)-1, len(data2)-1)\n",
    "    \n",
    "    return f_value, p_value\n",
    "\n",
    "data1 = [1, 2, 3, 4, 5]\n",
    "data2 = [2, 4, 6, 8, 10]\n",
    "f_value, p_value = variance_ratio_test(data1, data2)\n",
    "print(\"F-value:\", f_value)\n",
    "print(\"p-value:\", p_value)"
   ]
  },
  {
   "cell_type": "markdown",
   "id": "c806f2e3-64c5-4f6e-915d-2d718b4c24f8",
   "metadata": {},
   "source": [
    "# question 2"
   ]
  },
  {
   "cell_type": "code",
   "execution_count": 5,
   "id": "115c69ef-0670-4d66-a087-678704b136a1",
   "metadata": {},
   "outputs": [
    {
     "name": "stdout",
     "output_type": "stream",
     "text": [
      "Critical F-value: 3.8586986662732143\n"
     ]
    }
   ],
   "source": [
    "import scipy.stats as stats\n",
    "\n",
    "def critical_f_value(df_n, df_d, alpha=0.05):\n",
    "    # Calculate the critical F-value for a two-tailed test\n",
    "    f_crit = stats.f.isf(alpha/2, df_n, df_d)\n",
    "    \n",
    "    return f_crit\n",
    "\n",
    "df_n = 3\n",
    "df_d = 20\n",
    "alpha = 0.05\n",
    "f_crit = critical_f_value(df_n, df_d, alpha)\n",
    "print(\"Critical F-value:\", f_crit)"
   ]
  },
  {
   "cell_type": "markdown",
   "id": "cdf86ad2-aa15-44fb-a8a9-956bd657c621",
   "metadata": {},
   "source": [
    "# question 3"
   ]
  },
  {
   "cell_type": "code",
   "execution_count": 9,
   "id": "fa6330e2-a2f6-4e88-b881-b8d83448b70b",
   "metadata": {},
   "outputs": [
    {
     "name": "stdout",
     "output_type": "stream",
     "text": [
      "F-value: 0.6184089200351394\n",
      "Degrees of freedom (numerator, denominator): 29 29\n",
      "p-value: 0.20162963764723701\n"
     ]
    }
   ],
   "source": [
    "import numpy as np\n",
    "import scipy.stats as stats\n",
    "\n",
    "# Set the random seed for reproducibility\n",
    "np.random.seed(123)\n",
    "\n",
    "# Generate two random samples from normal distributions with known variances\n",
    "n1 = 30\n",
    "n2 = 30\n",
    "mu1 = 0\n",
    "mu2 = 0\n",
    "var1 = 1\n",
    "var2 = 1.5\n",
    "\n",
    "x = np.random.normal(mu1, np.sqrt(var1), n1)\n",
    "y = np.random.normal(mu2, np.sqrt(var2), n2)\n",
    "\n",
    "# Calculate the F-value, degrees of freedom, and p-value for comparing variances\n",
    "f_val = np.var(x, ddof=1) / np.var(y, ddof=1)\n",
    "dfn = n1 - 1\n",
    "dfd = n2 - 1\n",
    "p_val = 2 * min(stats.f.cdf(f_val, dfn, dfd), 1 - stats.f.cdf(f_val, dfn, dfd))\n",
    "\n",
    "# Print the results\n",
    "print(\"F-value:\", f_val)\n",
    "print(\"Degrees of freedom (numerator, denominator):\", dfn, dfd)\n",
    "print(\"p-value:\", p_val)\n"
   ]
  },
  {
   "cell_type": "markdown",
   "id": "b9af0cd4-4a79-4b64-89e4-e5afa9a959dd",
   "metadata": {},
   "source": [
    "# question 4\n",
    "\n",
    "To conduct an F-test for the equality of variances, we need to calculate the F-statistic as the ratio of the sample variances of the two populations. The null hypothesis is that the variances are equal, while the alternative hypothesis is that they are not equal.\n",
    "\n",
    "The F-statistic is given by:\n",
    "\n",
    "F = s1^2 / s2^2\n",
    "\n",
    "where s1^2 and s2^2 are the sample variances of the first and second populations, respectively.\n",
    "\n",
    "We need to compare the calculated F-value with the critical F-value from the F-distribution table. The degrees of freedom for the numerator and denominator are (n1-1) and (n2-1), respectively.\n",
    "\n",
    "At a significance level of 5%, the critical F-value for (n1-1) = 11 and (n2-1) = 11 degrees of freedom is 3.11 (from the F-distribution table).\n",
    "\n",
    "Let's calculate the F-statistic:\n",
    "\n",
    "s1^2 = 10\n",
    "s2^2 = 15\n",
    "n1 = n2 = 12\n",
    "\n",
    "F = s1^2 / s2^2 = 10 / 15 = 0.67\n",
    "\n",
    "The calculated F-value (0.67) is less than the critical F-value (3.11) at the 5% significance level. Therefore, we fail to reject the null hypothesis and conclude that there is not enough evidence to suggest that the variances of the two populations are significantly different."
   ]
  },
  {
   "cell_type": "markdown",
   "id": "6d46aad8-9d7a-47c4-b197-867c771827dc",
   "metadata": {},
   "source": [
    "# question 5\n",
    "\n",
    "To conduct an F-test for the variance of the diameter of a certain product, we need to calculate the F-statistic as the ratio of the sample variance to the claimed variance. The null hypothesis is that the claimed variance is true, while the alternative hypothesis is that it is not.\n",
    "\n",
    "The F-statistic is given by:\n",
    "\n",
    "F = s^2 / σ^2\n",
    "\n",
    "where s^2 is the sample variance, and σ^2 is the claimed variance.\n",
    "\n",
    "We need to compare the calculated F-value with the critical F-value from the F-distribution table. The degrees of freedom for the numerator and denominator are (n-1) and 1, respectively.\n",
    "\n",
    "At a significance level of 1%, the critical F-value for (n-1) = 24 and df2 = 1 degrees of freedom is 6.60 (from the F-distribution table).\n",
    "\n",
    "Let's calculate the F-statistic:\n",
    "\n",
    "s^2 = 0.006\n",
    "σ^2 = 0.005\n",
    "n = 25\n",
    "\n",
    "F = s^2 / σ^2 = 0.006 / 0.005 = 1.2\n",
    "\n",
    "The calculated F-value (1.2) is less than the critical F-value (6.60) at the 1% significance level. Therefore, we fail to reject the null hypothesis and conclude that there is not enough evidence to suggest that the claimed variance of the diameter of a certain product is not justified."
   ]
  },
  {
   "cell_type": "markdown",
   "id": "dbc5de56-52c8-4ea6-ad6d-9342649380a6",
   "metadata": {},
   "source": [
    "# question 6\n"
   ]
  },
  {
   "cell_type": "code",
   "execution_count": 5,
   "id": "fca40394-5e6c-451e-a9fb-228242ef27a8",
   "metadata": {},
   "outputs": [
    {
     "data": {
      "text/plain": [
       "(1.25, 1.3541666666666667)"
      ]
     },
     "execution_count": 5,
     "metadata": {},
     "output_type": "execute_result"
    }
   ],
   "source": [
    "import math\n",
    "\n",
    "def f_distribution_mean_var(df1, df2):\n",
    "    if df1 <= 0 or df2 <= 0:\n",
    "        raise ValueError(\"Degrees of freedom must be positive\")\n",
    "    \n",
    "    if df2 == 1:\n",
    "        return (math.inf, math.inf)\n",
    "    \n",
    "    mean = df2 / (df2 - 2)\n",
    "    var = (2 * (df2**2) * (df1 + df2 - 2)) / ((df1 * (df2 - 2)**2 * (df2 - 4)))\n",
    "    \n",
    "    return (mean, var)\n",
    "\n",
    "\n",
    "f_distribution_mean_var(5, 10)"
   ]
  },
  {
   "cell_type": "markdown",
   "id": "83e7108b-4226-431e-a247-56156df6e606",
   "metadata": {},
   "source": [
    "# question 7\n",
    "\n",
    "To conduct an F-test for the equality of variances between two populations, we need to calculate the test statistic F, which is the ratio of the sample variances, and compare it to the F-distribution with (n1-1) and (n2-1) degrees of freedom, where n1 and n2 are the sample sizes of the two populations.\n",
    "\n",
    "The null hypothesis is that the variances of the two populations are equal, and the alternative hypothesis is that they are not equal.\n",
    "\n",
    "Given the sample variances s1^2 = 25 and s2^2 = 20, the test statistic F is:\n",
    "\n",
    "F = s1^2 / s2^2 = 25 / 20 = 1.25\n",
    "\n",
    "The degrees of freedom for the F-distribution are (10-1) = 9 and (15-1) = 14, respectively.\n",
    "\n",
    "Using a statistical software or a F-distribution table, we can find the critical F-value for a 10% significance level and (9,14) degrees of freedom, which is approximately 2.34.\n",
    "\n",
    "Since the calculated F-value (1.25) is less than the critical F-value (2.34), we fail to reject the null hypothesis and conclude that there is not enough evidence to suggest that the variances of the two populations are significantly different at the 10% significance level.\n",
    "\n",
    "Therefore, we cannot conclude that the variances are significantly different between the two populations."
   ]
  },
  {
   "cell_type": "markdown",
   "id": "50be8611-9f42-4680-a2c9-3a8a20ebee90",
   "metadata": {},
   "source": [
    "# question 8\n",
    "\n",
    "To conduct an F-test to determine if the variances of the waiting times at Restaurant A and Restaurant B are significantly different at the 5% significance level, we need to follow these steps:\n",
    "\n",
    "Step 1: Calculate the variance and sample size for each restaurant. We will use the formula for variance:\n",
    "\n",
    "s^2 = Σ(x - x̄)^2 / (n - 1)\n",
    "\n",
    "where s^2 is the sample variance, x is the individual data point, x̄ is the sample mean, and n is the sample size.\n",
    "\n",
    "For Restaurant A:\n",
    "\n",
    "n = 7\n",
    "\n",
    "x̄ = (24+25+28+23+22+20+27)/7 = 24.14\n",
    "\n",
    "s^2 = [ (24-24.14)^2 + (25-24.14)^2 + (28-24.14)^2 + (23-24.14)^2 + (22-24.14)^2 + (20-24.14)^2 + (27-24.14)^2 ] / (7-1) = 10.26\n",
    "\n",
    "For Restaurant B:\n",
    "\n",
    "n = 6\n",
    "\n",
    "x̄ = (31+33+35+30+32+36)/6 = 32.83\n",
    "\n",
    "s^2 = [ (31-32.83)^2 + (33-32.83)^2 + (35-32.83)^2 + (30-32.83)^2 + (32-32.83)^2 + (36-32.83)^2 ] / (6-1) = 6.94\n",
    "\n",
    "Step 2: Calculate the F statistic using the formula:\n",
    "\n",
    "F = s1^2 / s2^2\n",
    "\n",
    "where s1^2 is the variance of Restaurant A and s2^2 is the variance of Restaurant B.\n",
    "\n",
    "F = 10.26 / 6.94 = 1.48\n",
    "\n",
    "Step 3: Find the critical F-value using a table or calculator. Since we have a sample size of 6 and 7 degrees of freedom (df), we can find the critical value using an F-table or calculator with alpha=0.05 and degrees of freedom 6 and 7. The critical F-value is 4.75.\n",
    "\n",
    "Step 4: Compare the F-statistic to the critical F-value. Since 1.48 is less than 4.75, we fail to reject the null hypothesis that the variances are equal. This means that we do not have enough evidence to conclude that the variances of the waiting times at the two restaurants are significantly different at the 5% significance level.\n",
    "\n",
    "Therefore, we can conclude that there is not enough evidence to suggest that the variance of waiting times is significantly different between Restaurant A and Restaurant B at the 5% significance level.\n",
    "\n",
    "\n",
    "\n"
   ]
  },
  {
   "cell_type": "markdown",
   "id": "e2b29df4-99a7-4009-88c3-eed26c5c8aa5",
   "metadata": {},
   "source": [
    "# question 9\n",
    "\n",
    "To conduct an F-test to determine if the variances of the test scores of Group A and Group B are significantly different at the 1% significance level, we need to follow these steps:\n",
    "\n",
    "Step 1: Calculate the variance and sample size for each group. We will use the formula for variance:\n",
    "\n",
    "s^2 = Σ(x - x̄)^2 / (n - 1)\n",
    "\n",
    "where s^2 is the sample variance, x is the individual data point, x̄ is the sample mean, and n is the sample size.\n",
    "\n",
    "For Group A:\n",
    "    \n",
    "n = 6\n",
    "\n",
    "x̄ = (80+85+90+92+87+83)/6 = 86.17\n",
    "\n",
    "s^2 = [ (80-86.17)^2 + (85-86.17)^2 + (90-86.17)^2 + (92-86.17)^2 + (87-86.17)^2 + (83-86.17)^2 ] / (6-1) = 31.97\n",
    "\n",
    "For Group B:\n",
    "    \n",
    "n = 6\n",
    "\n",
    "x̄ = (75+78+82+79+81+84)/6 = 80.17\n",
    "\n",
    "s^2 = [ (75-80.17)^2 + (78-80.17)^2 + (82-80.17)^2 + (79-80.17)^2 + (81-80.17)^2 + (84-80.17)^2 ] / (6-1) = 11.97\n",
    "\n",
    "Step 2: Calculate the F statistic using the formula:\n",
    "\n",
    "F = s1^2 / s2^2\n",
    "\n",
    "where s1^2 is the variance of Group A and s2^2 is the variance of Group B.\n",
    "\n",
    "F = 31.97 / 11.97 = 2.67\n",
    "\n",
    "Step 3: Find the critical F-value using a table or calculator. Since we have a sample size of 6 and 6 degrees of freedom (df), we can find the critical value using an F-table or calculator with alpha=0.01 and degrees of freedom 6 and 6. The critical F-value is 6.39.\n",
    "\n",
    "Step 4: Compare the F-statistic to the critical F-value. Since 2.67 is less than 6.39, we fail to reject the null hypothesis that the variances are equal. This means that we do not have enough evidence to conclude that the variances of the test scores of the two groups are significantly different at the 1% significance level.\n",
    "\n",
    "Therefore, we can conclude that there is not enough evidence to suggest that the variance of test scores is significantly different between Group A and Group B at the 1% significance level.\n",
    "\n",
    "\n",
    "\n",
    "\n",
    "\n"
   ]
  },
  {
   "cell_type": "code",
   "execution_count": null,
   "id": "92e0b02f-0a78-44d9-9842-268c170e0b93",
   "metadata": {},
   "outputs": [],
   "source": []
  }
 ],
 "metadata": {
  "kernelspec": {
   "display_name": "Python 3 (ipykernel)",
   "language": "python",
   "name": "python3"
  },
  "language_info": {
   "codemirror_mode": {
    "name": "ipython",
    "version": 3
   },
   "file_extension": ".py",
   "mimetype": "text/x-python",
   "name": "python",
   "nbconvert_exporter": "python",
   "pygments_lexer": "ipython3",
   "version": "3.10.8"
  }
 },
 "nbformat": 4,
 "nbformat_minor": 5
}
